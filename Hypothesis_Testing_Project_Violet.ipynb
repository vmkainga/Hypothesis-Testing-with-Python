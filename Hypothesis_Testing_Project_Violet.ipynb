{
  "nbformat": 4,
  "nbformat_minor": 0,
  "metadata": {
    "colab": {
      "name": "Hypothesis Testing Project-Violet",
      "provenance": [],
      "collapsed_sections": [],
      "authorship_tag": "ABX9TyPFh4fdocyAr6T8f0E8wOG4",
      "include_colab_link": true
    },
    "kernelspec": {
      "name": "python3",
      "display_name": "Python 3"
    },
    "language_info": {
      "name": "python"
    }
  },
  "cells": [
    {
      "cell_type": "markdown",
      "metadata": {
        "id": "view-in-github",
        "colab_type": "text"
      },
      "source": [
        "<a href=\"https://colab.research.google.com/github/vmkainga/Hypothesis-Testing-with-Python/blob/main/Hypothesis_Testing_Project_Violet.ipynb\" target=\"_parent\"><img src=\"https://colab.research.google.com/assets/colab-badge.svg\" alt=\"Open In Colab\"/></a>"
      ]
    },
    {
      "cell_type": "markdown",
      "metadata": {
        "id": "MK4F5tphnGMk"
      },
      "source": [
        "# Hypothesis Testing"
      ]
    },
    {
      "cell_type": "markdown",
      "metadata": {
        "id": "5zXZt9C4nKNg"
      },
      "source": [
        "## Defining the Question\n",
        "\n",
        "You work as a data scientist for the telecom operator Megatelco. The company offers its\n",
        "clients two prepaid plans, Surf and Ultimate. The commercial department wants to know\n",
        "which of the plans brings in more revenue in order to adjust the advertising budget.\n",
        "You are going to carry out a preliminary analysis of the plans based on a relatively small\n",
        "client selection. You'll have the data on 500 Megatelco clients: who the clients are, where\n",
        "they're from, which plan they use, and the number of calls they made and text messages\n",
        "they sent in 2018. Your job is to analyze clients' behavior and determine which prepaid\n",
        "plan brings in more revenue."
      ]
    },
    {
      "cell_type": "markdown",
      "metadata": {
        "id": "pkD7FO7onPzA"
      },
      "source": [
        "## Pre-requisites"
      ]
    },
    {
      "cell_type": "code",
      "metadata": {
        "id": "41OyJhRmnZjN"
      },
      "source": [
        "# load libraries\n",
        "import pandas as pd\n",
        "import numpy as np\n",
        "\n",
        "import matplotlib.pyplot as plt\n",
        "import seaborn as sns"
      ],
      "execution_count": null,
      "outputs": []
    },
    {
      "cell_type": "markdown",
      "metadata": {
        "id": "Br_az_5uoVJO"
      },
      "source": [
        "## Step 1. Data Preparation"
      ]
    },
    {
      "cell_type": "code",
      "metadata": {
        "id": "pzsOEK52oXCF"
      },
      "source": [
        "#Read data\n",
        "\n",
        "message_df=pd.read_csv(\"megamessage_telco.csv\")\n",
        "\n",
        "calls_df=pd.read_csv(\"megatelco_calls.csv\")\n",
        "\n",
        "internet_df=pd.read_csv(\"megatelco_internet.csv\")\n",
        "\n",
        "plans_df=pd.read_csv(\"megatelco_plans.csv\")\n",
        "\n",
        "users_df=pd.read_csv(\"megatelco_users.csv\")"
      ],
      "execution_count": null,
      "outputs": []
    },
    {
      "cell_type": "markdown",
      "metadata": {
        "id": "DF8wEPWUBzfT"
      },
      "source": [
        "## Step 2. Data Cleanup"
      ]
    },
    {
      "cell_type": "code",
      "metadata": {
        "id": "wdcNZ8eo9o5M"
      },
      "source": [
        "#change date column datatype to date and extract month in the 3 dataframes\n",
        "message_df['message_date']= pd.to_datetime(message_df['message_date'])\n",
        "message_df['Month'] = message_df['message_date'].dt.month\n",
        "\n",
        "calls_df['call_date']= pd.to_datetime(calls_df['call_date'])\n",
        "calls_df['Month'] = calls_df['call_date'].dt.month\n",
        "\n",
        "\n",
        "internet_df['session_date']= pd.to_datetime(internet_df['session_date'])\n",
        "internet_df['Month'] = internet_df['session_date'].dt.month\n",
        "\n"
      ],
      "execution_count": null,
      "outputs": []
    },
    {
      "cell_type": "code",
      "metadata": {
        "id": "yVjVKMIcCEPu"
      },
      "source": [
        "#drop unneccesary columns\n",
        "message_df=message_df.drop(['message_date'], axis=1)\n",
        "calls_df=calls_df.drop(['id', 'call_date'], axis=1)\n",
        "internet_df= internet_df.drop(['id', 'session_date'], axis=1)\n",
        "users_df=users_df.drop(['first_name', 'last_name', 'age', 'reg_date', 'churn_date'], axis=1)"
      ],
      "execution_count": null,
      "outputs": []
    },
    {
      "cell_type": "markdown",
      "metadata": {
        "id": "cBX40Cfbl8ue"
      },
      "source": [
        "##Step 3. Analyze data"
      ]
    },
    {
      "cell_type": "code",
      "metadata": {
        "colab": {
          "base_uri": "https://localhost:8080/",
          "height": 206
        },
        "id": "pM6g18LmjLYi",
        "outputId": "f3eab994-a8c8-462b-d658-7740119b6c5c"
      },
      "source": [
        "#Preview data\n",
        "\n",
        "message_df.head()\n"
      ],
      "execution_count": null,
      "outputs": [
        {
          "output_type": "execute_result",
          "data": {
            "text/html": [
              "<div>\n",
              "<style scoped>\n",
              "    .dataframe tbody tr th:only-of-type {\n",
              "        vertical-align: middle;\n",
              "    }\n",
              "\n",
              "    .dataframe tbody tr th {\n",
              "        vertical-align: top;\n",
              "    }\n",
              "\n",
              "    .dataframe thead th {\n",
              "        text-align: right;\n",
              "    }\n",
              "</style>\n",
              "<table border=\"1\" class=\"dataframe\">\n",
              "  <thead>\n",
              "    <tr style=\"text-align: right;\">\n",
              "      <th></th>\n",
              "      <th>id</th>\n",
              "      <th>user_id</th>\n",
              "      <th>Month</th>\n",
              "    </tr>\n",
              "  </thead>\n",
              "  <tbody>\n",
              "    <tr>\n",
              "      <th>0</th>\n",
              "      <td>1000_125</td>\n",
              "      <td>1000</td>\n",
              "      <td>12</td>\n",
              "    </tr>\n",
              "    <tr>\n",
              "      <th>1</th>\n",
              "      <td>1000_160</td>\n",
              "      <td>1000</td>\n",
              "      <td>12</td>\n",
              "    </tr>\n",
              "    <tr>\n",
              "      <th>2</th>\n",
              "      <td>1000_223</td>\n",
              "      <td>1000</td>\n",
              "      <td>12</td>\n",
              "    </tr>\n",
              "    <tr>\n",
              "      <th>3</th>\n",
              "      <td>1000_251</td>\n",
              "      <td>1000</td>\n",
              "      <td>12</td>\n",
              "    </tr>\n",
              "    <tr>\n",
              "      <th>4</th>\n",
              "      <td>1000_255</td>\n",
              "      <td>1000</td>\n",
              "      <td>12</td>\n",
              "    </tr>\n",
              "  </tbody>\n",
              "</table>\n",
              "</div>"
            ],
            "text/plain": [
              "         id  user_id  Month\n",
              "0  1000_125     1000     12\n",
              "1  1000_160     1000     12\n",
              "2  1000_223     1000     12\n",
              "3  1000_251     1000     12\n",
              "4  1000_255     1000     12"
            ]
          },
          "metadata": {},
          "execution_count": 90
        }
      ]
    },
    {
      "cell_type": "code",
      "metadata": {
        "colab": {
          "base_uri": "https://localhost:8080/",
          "height": 206
        },
        "id": "xSq-zmpnmz88",
        "outputId": "e202a29f-7d83-427a-d92c-e59b4ed80d01"
      },
      "source": [
        "calls_df.head()\n"
      ],
      "execution_count": null,
      "outputs": [
        {
          "output_type": "execute_result",
          "data": {
            "text/html": [
              "<div>\n",
              "<style scoped>\n",
              "    .dataframe tbody tr th:only-of-type {\n",
              "        vertical-align: middle;\n",
              "    }\n",
              "\n",
              "    .dataframe tbody tr th {\n",
              "        vertical-align: top;\n",
              "    }\n",
              "\n",
              "    .dataframe thead th {\n",
              "        text-align: right;\n",
              "    }\n",
              "</style>\n",
              "<table border=\"1\" class=\"dataframe\">\n",
              "  <thead>\n",
              "    <tr style=\"text-align: right;\">\n",
              "      <th></th>\n",
              "      <th>user_id</th>\n",
              "      <th>duration</th>\n",
              "      <th>Month</th>\n",
              "    </tr>\n",
              "  </thead>\n",
              "  <tbody>\n",
              "    <tr>\n",
              "      <th>0</th>\n",
              "      <td>1000</td>\n",
              "      <td>8.52</td>\n",
              "      <td>12</td>\n",
              "    </tr>\n",
              "    <tr>\n",
              "      <th>1</th>\n",
              "      <td>1000</td>\n",
              "      <td>13.66</td>\n",
              "      <td>12</td>\n",
              "    </tr>\n",
              "    <tr>\n",
              "      <th>2</th>\n",
              "      <td>1000</td>\n",
              "      <td>14.48</td>\n",
              "      <td>12</td>\n",
              "    </tr>\n",
              "    <tr>\n",
              "      <th>3</th>\n",
              "      <td>1000</td>\n",
              "      <td>5.76</td>\n",
              "      <td>12</td>\n",
              "    </tr>\n",
              "    <tr>\n",
              "      <th>4</th>\n",
              "      <td>1000</td>\n",
              "      <td>4.22</td>\n",
              "      <td>12</td>\n",
              "    </tr>\n",
              "  </tbody>\n",
              "</table>\n",
              "</div>"
            ],
            "text/plain": [
              "   user_id  duration  Month\n",
              "0     1000      8.52     12\n",
              "1     1000     13.66     12\n",
              "2     1000     14.48     12\n",
              "3     1000      5.76     12\n",
              "4     1000      4.22     12"
            ]
          },
          "metadata": {},
          "execution_count": 91
        }
      ]
    },
    {
      "cell_type": "code",
      "metadata": {
        "colab": {
          "base_uri": "https://localhost:8080/",
          "height": 206
        },
        "id": "61_CRQVxm46R",
        "outputId": "dccbd3f8-21ad-402e-8dd9-fa3424c595df"
      },
      "source": [
        "internet_df.head()\n"
      ],
      "execution_count": null,
      "outputs": [
        {
          "output_type": "execute_result",
          "data": {
            "text/html": [
              "<div>\n",
              "<style scoped>\n",
              "    .dataframe tbody tr th:only-of-type {\n",
              "        vertical-align: middle;\n",
              "    }\n",
              "\n",
              "    .dataframe tbody tr th {\n",
              "        vertical-align: top;\n",
              "    }\n",
              "\n",
              "    .dataframe thead th {\n",
              "        text-align: right;\n",
              "    }\n",
              "</style>\n",
              "<table border=\"1\" class=\"dataframe\">\n",
              "  <thead>\n",
              "    <tr style=\"text-align: right;\">\n",
              "      <th></th>\n",
              "      <th>user_id</th>\n",
              "      <th>mb_used</th>\n",
              "      <th>Month</th>\n",
              "    </tr>\n",
              "  </thead>\n",
              "  <tbody>\n",
              "    <tr>\n",
              "      <th>0</th>\n",
              "      <td>1000</td>\n",
              "      <td>89.86</td>\n",
              "      <td>12</td>\n",
              "    </tr>\n",
              "    <tr>\n",
              "      <th>1</th>\n",
              "      <td>1000</td>\n",
              "      <td>0.00</td>\n",
              "      <td>12</td>\n",
              "    </tr>\n",
              "    <tr>\n",
              "      <th>2</th>\n",
              "      <td>1000</td>\n",
              "      <td>660.40</td>\n",
              "      <td>12</td>\n",
              "    </tr>\n",
              "    <tr>\n",
              "      <th>3</th>\n",
              "      <td>1000</td>\n",
              "      <td>270.99</td>\n",
              "      <td>12</td>\n",
              "    </tr>\n",
              "    <tr>\n",
              "      <th>4</th>\n",
              "      <td>1000</td>\n",
              "      <td>880.22</td>\n",
              "      <td>12</td>\n",
              "    </tr>\n",
              "  </tbody>\n",
              "</table>\n",
              "</div>"
            ],
            "text/plain": [
              "   user_id  mb_used  Month\n",
              "0     1000    89.86     12\n",
              "1     1000     0.00     12\n",
              "2     1000   660.40     12\n",
              "3     1000   270.99     12\n",
              "4     1000   880.22     12"
            ]
          },
          "metadata": {},
          "execution_count": 92
        }
      ]
    },
    {
      "cell_type": "code",
      "metadata": {
        "colab": {
          "base_uri": "https://localhost:8080/",
          "height": 132
        },
        "id": "yEYhOJ8Om_me",
        "outputId": "5c78a982-8ac1-464e-ceed-e4feebc6267b"
      },
      "source": [
        "plans_df.head()"
      ],
      "execution_count": null,
      "outputs": [
        {
          "output_type": "execute_result",
          "data": {
            "text/html": [
              "<div>\n",
              "<style scoped>\n",
              "    .dataframe tbody tr th:only-of-type {\n",
              "        vertical-align: middle;\n",
              "    }\n",
              "\n",
              "    .dataframe tbody tr th {\n",
              "        vertical-align: top;\n",
              "    }\n",
              "\n",
              "    .dataframe thead th {\n",
              "        text-align: right;\n",
              "    }\n",
              "</style>\n",
              "<table border=\"1\" class=\"dataframe\">\n",
              "  <thead>\n",
              "    <tr style=\"text-align: right;\">\n",
              "      <th></th>\n",
              "      <th>messages_included</th>\n",
              "      <th>mb_per_month_included</th>\n",
              "      <th>minutes_included</th>\n",
              "      <th>usd_monthly_pay</th>\n",
              "      <th>usd_per_gb</th>\n",
              "      <th>usd_per_message</th>\n",
              "      <th>usd_per_minute</th>\n",
              "      <th>plan_name</th>\n",
              "    </tr>\n",
              "  </thead>\n",
              "  <tbody>\n",
              "    <tr>\n",
              "      <th>0</th>\n",
              "      <td>50</td>\n",
              "      <td>15360</td>\n",
              "      <td>500</td>\n",
              "      <td>20</td>\n",
              "      <td>10</td>\n",
              "      <td>0.03</td>\n",
              "      <td>0.03</td>\n",
              "      <td>surf</td>\n",
              "    </tr>\n",
              "    <tr>\n",
              "      <th>1</th>\n",
              "      <td>1000</td>\n",
              "      <td>30720</td>\n",
              "      <td>3000</td>\n",
              "      <td>70</td>\n",
              "      <td>7</td>\n",
              "      <td>0.01</td>\n",
              "      <td>0.01</td>\n",
              "      <td>ultimate</td>\n",
              "    </tr>\n",
              "  </tbody>\n",
              "</table>\n",
              "</div>"
            ],
            "text/plain": [
              "   messages_included  mb_per_month_included  ...  usd_per_minute  plan_name\n",
              "0                 50                  15360  ...            0.03       surf\n",
              "1               1000                  30720  ...            0.01   ultimate\n",
              "\n",
              "[2 rows x 8 columns]"
            ]
          },
          "metadata": {},
          "execution_count": 93
        }
      ]
    },
    {
      "cell_type": "code",
      "metadata": {
        "colab": {
          "base_uri": "https://localhost:8080/",
          "height": 206
        },
        "id": "ow-NaOAhnDcq",
        "outputId": "8fd48360-ac3d-48bb-9140-fd77739df551"
      },
      "source": [
        "users_df.head()\n"
      ],
      "execution_count": null,
      "outputs": [
        {
          "output_type": "execute_result",
          "data": {
            "text/html": [
              "<div>\n",
              "<style scoped>\n",
              "    .dataframe tbody tr th:only-of-type {\n",
              "        vertical-align: middle;\n",
              "    }\n",
              "\n",
              "    .dataframe tbody tr th {\n",
              "        vertical-align: top;\n",
              "    }\n",
              "\n",
              "    .dataframe thead th {\n",
              "        text-align: right;\n",
              "    }\n",
              "</style>\n",
              "<table border=\"1\" class=\"dataframe\">\n",
              "  <thead>\n",
              "    <tr style=\"text-align: right;\">\n",
              "      <th></th>\n",
              "      <th>user_id</th>\n",
              "      <th>city</th>\n",
              "      <th>plan</th>\n",
              "    </tr>\n",
              "  </thead>\n",
              "  <tbody>\n",
              "    <tr>\n",
              "      <th>0</th>\n",
              "      <td>1000</td>\n",
              "      <td>Atlanta-Sandy Springs-Roswell, GA MSA</td>\n",
              "      <td>ultimate</td>\n",
              "    </tr>\n",
              "    <tr>\n",
              "      <th>1</th>\n",
              "      <td>1001</td>\n",
              "      <td>Seattle-Tacoma-Bellevue, WA MSA</td>\n",
              "      <td>surf</td>\n",
              "    </tr>\n",
              "    <tr>\n",
              "      <th>2</th>\n",
              "      <td>1002</td>\n",
              "      <td>Las Vegas-Henderson-Paradise, NV MSA</td>\n",
              "      <td>surf</td>\n",
              "    </tr>\n",
              "    <tr>\n",
              "      <th>3</th>\n",
              "      <td>1003</td>\n",
              "      <td>Tulsa, OK MSA</td>\n",
              "      <td>surf</td>\n",
              "    </tr>\n",
              "    <tr>\n",
              "      <th>4</th>\n",
              "      <td>1004</td>\n",
              "      <td>Seattle-Tacoma-Bellevue, WA MSA</td>\n",
              "      <td>surf</td>\n",
              "    </tr>\n",
              "  </tbody>\n",
              "</table>\n",
              "</div>"
            ],
            "text/plain": [
              "   user_id                                   city      plan\n",
              "0     1000  Atlanta-Sandy Springs-Roswell, GA MSA  ultimate\n",
              "1     1001        Seattle-Tacoma-Bellevue, WA MSA      surf\n",
              "2     1002   Las Vegas-Henderson-Paradise, NV MSA      surf\n",
              "3     1003                          Tulsa, OK MSA      surf\n",
              "4     1004        Seattle-Tacoma-Bellevue, WA MSA      surf"
            ]
          },
          "metadata": {},
          "execution_count": 94
        }
      ]
    },
    {
      "cell_type": "code",
      "metadata": {
        "colab": {
          "base_uri": "https://localhost:8080/",
          "height": 423
        },
        "id": "rCFx9_J9b1f9",
        "outputId": "352a89f6-7485-49bb-928a-832f3f5a165d"
      },
      "source": [
        "#find messages sent per user per month\n",
        "\n",
        "monthlymessage = (message_df.groupby([ 'user_id', 'Month']).count().reset_index())\n",
        "\n",
        "monthlymessage.rename(columns={'id': 'messages'}, inplace=True)\n",
        "monthlymessage\n"
      ],
      "execution_count": null,
      "outputs": [
        {
          "output_type": "execute_result",
          "data": {
            "text/html": [
              "<div>\n",
              "<style scoped>\n",
              "    .dataframe tbody tr th:only-of-type {\n",
              "        vertical-align: middle;\n",
              "    }\n",
              "\n",
              "    .dataframe tbody tr th {\n",
              "        vertical-align: top;\n",
              "    }\n",
              "\n",
              "    .dataframe thead th {\n",
              "        text-align: right;\n",
              "    }\n",
              "</style>\n",
              "<table border=\"1\" class=\"dataframe\">\n",
              "  <thead>\n",
              "    <tr style=\"text-align: right;\">\n",
              "      <th></th>\n",
              "      <th>user_id</th>\n",
              "      <th>Month</th>\n",
              "      <th>messages</th>\n",
              "    </tr>\n",
              "  </thead>\n",
              "  <tbody>\n",
              "    <tr>\n",
              "      <th>0</th>\n",
              "      <td>1000</td>\n",
              "      <td>12</td>\n",
              "      <td>11</td>\n",
              "    </tr>\n",
              "    <tr>\n",
              "      <th>1</th>\n",
              "      <td>1001</td>\n",
              "      <td>8</td>\n",
              "      <td>30</td>\n",
              "    </tr>\n",
              "    <tr>\n",
              "      <th>2</th>\n",
              "      <td>1001</td>\n",
              "      <td>9</td>\n",
              "      <td>44</td>\n",
              "    </tr>\n",
              "    <tr>\n",
              "      <th>3</th>\n",
              "      <td>1001</td>\n",
              "      <td>10</td>\n",
              "      <td>53</td>\n",
              "    </tr>\n",
              "    <tr>\n",
              "      <th>4</th>\n",
              "      <td>1001</td>\n",
              "      <td>11</td>\n",
              "      <td>36</td>\n",
              "    </tr>\n",
              "    <tr>\n",
              "      <th>...</th>\n",
              "      <td>...</td>\n",
              "      <td>...</td>\n",
              "      <td>...</td>\n",
              "    </tr>\n",
              "    <tr>\n",
              "      <th>1801</th>\n",
              "      <td>1496</td>\n",
              "      <td>9</td>\n",
              "      <td>21</td>\n",
              "    </tr>\n",
              "    <tr>\n",
              "      <th>1802</th>\n",
              "      <td>1496</td>\n",
              "      <td>10</td>\n",
              "      <td>18</td>\n",
              "    </tr>\n",
              "    <tr>\n",
              "      <th>1803</th>\n",
              "      <td>1496</td>\n",
              "      <td>11</td>\n",
              "      <td>13</td>\n",
              "    </tr>\n",
              "    <tr>\n",
              "      <th>1804</th>\n",
              "      <td>1496</td>\n",
              "      <td>12</td>\n",
              "      <td>11</td>\n",
              "    </tr>\n",
              "    <tr>\n",
              "      <th>1805</th>\n",
              "      <td>1497</td>\n",
              "      <td>12</td>\n",
              "      <td>50</td>\n",
              "    </tr>\n",
              "  </tbody>\n",
              "</table>\n",
              "<p>1806 rows × 3 columns</p>\n",
              "</div>"
            ],
            "text/plain": [
              "      user_id  Month  messages\n",
              "0        1000     12        11\n",
              "1        1001      8        30\n",
              "2        1001      9        44\n",
              "3        1001     10        53\n",
              "4        1001     11        36\n",
              "...       ...    ...       ...\n",
              "1801     1496      9        21\n",
              "1802     1496     10        18\n",
              "1803     1496     11        13\n",
              "1804     1496     12        11\n",
              "1805     1497     12        50\n",
              "\n",
              "[1806 rows x 3 columns]"
            ]
          },
          "metadata": {},
          "execution_count": 95
        }
      ]
    },
    {
      "cell_type": "code",
      "metadata": {
        "colab": {
          "base_uri": "https://localhost:8080/",
          "height": 423
        },
        "id": "LTQQJxaHiNYA",
        "outputId": "571dc1e2-e98f-41e4-f0bd-182795675018"
      },
      "source": [
        "#find calls  made per user per month\n",
        "\n",
        "monthlycalls = (calls_df.groupby([ 'user_id', 'Month']).count().reset_index())\n",
        "\n",
        "monthlycalls"
      ],
      "execution_count": null,
      "outputs": [
        {
          "output_type": "execute_result",
          "data": {
            "text/html": [
              "<div>\n",
              "<style scoped>\n",
              "    .dataframe tbody tr th:only-of-type {\n",
              "        vertical-align: middle;\n",
              "    }\n",
              "\n",
              "    .dataframe tbody tr th {\n",
              "        vertical-align: top;\n",
              "    }\n",
              "\n",
              "    .dataframe thead th {\n",
              "        text-align: right;\n",
              "    }\n",
              "</style>\n",
              "<table border=\"1\" class=\"dataframe\">\n",
              "  <thead>\n",
              "    <tr style=\"text-align: right;\">\n",
              "      <th></th>\n",
              "      <th>user_id</th>\n",
              "      <th>Month</th>\n",
              "      <th>duration</th>\n",
              "    </tr>\n",
              "  </thead>\n",
              "  <tbody>\n",
              "    <tr>\n",
              "      <th>0</th>\n",
              "      <td>1000</td>\n",
              "      <td>12</td>\n",
              "      <td>16</td>\n",
              "    </tr>\n",
              "    <tr>\n",
              "      <th>1</th>\n",
              "      <td>1001</td>\n",
              "      <td>8</td>\n",
              "      <td>27</td>\n",
              "    </tr>\n",
              "    <tr>\n",
              "      <th>2</th>\n",
              "      <td>1001</td>\n",
              "      <td>9</td>\n",
              "      <td>49</td>\n",
              "    </tr>\n",
              "    <tr>\n",
              "      <th>3</th>\n",
              "      <td>1001</td>\n",
              "      <td>10</td>\n",
              "      <td>65</td>\n",
              "    </tr>\n",
              "    <tr>\n",
              "      <th>4</th>\n",
              "      <td>1001</td>\n",
              "      <td>11</td>\n",
              "      <td>64</td>\n",
              "    </tr>\n",
              "    <tr>\n",
              "      <th>...</th>\n",
              "      <td>...</td>\n",
              "      <td>...</td>\n",
              "      <td>...</td>\n",
              "    </tr>\n",
              "    <tr>\n",
              "      <th>2253</th>\n",
              "      <td>1498</td>\n",
              "      <td>12</td>\n",
              "      <td>39</td>\n",
              "    </tr>\n",
              "    <tr>\n",
              "      <th>2254</th>\n",
              "      <td>1499</td>\n",
              "      <td>9</td>\n",
              "      <td>41</td>\n",
              "    </tr>\n",
              "    <tr>\n",
              "      <th>2255</th>\n",
              "      <td>1499</td>\n",
              "      <td>10</td>\n",
              "      <td>53</td>\n",
              "    </tr>\n",
              "    <tr>\n",
              "      <th>2256</th>\n",
              "      <td>1499</td>\n",
              "      <td>11</td>\n",
              "      <td>45</td>\n",
              "    </tr>\n",
              "    <tr>\n",
              "      <th>2257</th>\n",
              "      <td>1499</td>\n",
              "      <td>12</td>\n",
              "      <td>65</td>\n",
              "    </tr>\n",
              "  </tbody>\n",
              "</table>\n",
              "<p>2258 rows × 3 columns</p>\n",
              "</div>"
            ],
            "text/plain": [
              "      user_id  Month  duration\n",
              "0        1000     12        16\n",
              "1        1001      8        27\n",
              "2        1001      9        49\n",
              "3        1001     10        65\n",
              "4        1001     11        64\n",
              "...       ...    ...       ...\n",
              "2253     1498     12        39\n",
              "2254     1499      9        41\n",
              "2255     1499     10        53\n",
              "2256     1499     11        45\n",
              "2257     1499     12        65\n",
              "\n",
              "[2258 rows x 3 columns]"
            ]
          },
          "metadata": {},
          "execution_count": 96
        }
      ]
    },
    {
      "cell_type": "code",
      "metadata": {
        "colab": {
          "base_uri": "https://localhost:8080/",
          "height": 423
        },
        "id": "wGMXuZ3occCP",
        "outputId": "a4d588c7-00fd-40d8-9390-1e5495abc495"
      },
      "source": [
        "##find minutes used per user per month\n",
        "\n",
        "#round off each individual call \n",
        "import math\n",
        "\n",
        "calls_df['duration'] = calls_df['duration'].apply(np.ceil)\n",
        "\n",
        "monthlycall_duration = (calls_df.groupby([ 'user_id', 'Month']).sum().reset_index())\n",
        "monthlycall_duration\n",
        "\n"
      ],
      "execution_count": null,
      "outputs": [
        {
          "output_type": "execute_result",
          "data": {
            "text/html": [
              "<div>\n",
              "<style scoped>\n",
              "    .dataframe tbody tr th:only-of-type {\n",
              "        vertical-align: middle;\n",
              "    }\n",
              "\n",
              "    .dataframe tbody tr th {\n",
              "        vertical-align: top;\n",
              "    }\n",
              "\n",
              "    .dataframe thead th {\n",
              "        text-align: right;\n",
              "    }\n",
              "</style>\n",
              "<table border=\"1\" class=\"dataframe\">\n",
              "  <thead>\n",
              "    <tr style=\"text-align: right;\">\n",
              "      <th></th>\n",
              "      <th>user_id</th>\n",
              "      <th>Month</th>\n",
              "      <th>duration</th>\n",
              "    </tr>\n",
              "  </thead>\n",
              "  <tbody>\n",
              "    <tr>\n",
              "      <th>0</th>\n",
              "      <td>1000</td>\n",
              "      <td>12</td>\n",
              "      <td>124.0</td>\n",
              "    </tr>\n",
              "    <tr>\n",
              "      <th>1</th>\n",
              "      <td>1001</td>\n",
              "      <td>8</td>\n",
              "      <td>182.0</td>\n",
              "    </tr>\n",
              "    <tr>\n",
              "      <th>2</th>\n",
              "      <td>1001</td>\n",
              "      <td>9</td>\n",
              "      <td>315.0</td>\n",
              "    </tr>\n",
              "    <tr>\n",
              "      <th>3</th>\n",
              "      <td>1001</td>\n",
              "      <td>10</td>\n",
              "      <td>393.0</td>\n",
              "    </tr>\n",
              "    <tr>\n",
              "      <th>4</th>\n",
              "      <td>1001</td>\n",
              "      <td>11</td>\n",
              "      <td>426.0</td>\n",
              "    </tr>\n",
              "    <tr>\n",
              "      <th>...</th>\n",
              "      <td>...</td>\n",
              "      <td>...</td>\n",
              "      <td>...</td>\n",
              "    </tr>\n",
              "    <tr>\n",
              "      <th>2253</th>\n",
              "      <td>1498</td>\n",
              "      <td>12</td>\n",
              "      <td>339.0</td>\n",
              "    </tr>\n",
              "    <tr>\n",
              "      <th>2254</th>\n",
              "      <td>1499</td>\n",
              "      <td>9</td>\n",
              "      <td>346.0</td>\n",
              "    </tr>\n",
              "    <tr>\n",
              "      <th>2255</th>\n",
              "      <td>1499</td>\n",
              "      <td>10</td>\n",
              "      <td>385.0</td>\n",
              "    </tr>\n",
              "    <tr>\n",
              "      <th>2256</th>\n",
              "      <td>1499</td>\n",
              "      <td>11</td>\n",
              "      <td>308.0</td>\n",
              "    </tr>\n",
              "    <tr>\n",
              "      <th>2257</th>\n",
              "      <td>1499</td>\n",
              "      <td>12</td>\n",
              "      <td>496.0</td>\n",
              "    </tr>\n",
              "  </tbody>\n",
              "</table>\n",
              "<p>2258 rows × 3 columns</p>\n",
              "</div>"
            ],
            "text/plain": [
              "      user_id  Month  duration\n",
              "0        1000     12     124.0\n",
              "1        1001      8     182.0\n",
              "2        1001      9     315.0\n",
              "3        1001     10     393.0\n",
              "4        1001     11     426.0\n",
              "...       ...    ...       ...\n",
              "2253     1498     12     339.0\n",
              "2254     1499      9     346.0\n",
              "2255     1499     10     385.0\n",
              "2256     1499     11     308.0\n",
              "2257     1499     12     496.0\n",
              "\n",
              "[2258 rows x 3 columns]"
            ]
          },
          "metadata": {},
          "execution_count": 97
        }
      ]
    },
    {
      "cell_type": "code",
      "metadata": {
        "colab": {
          "base_uri": "https://localhost:8080/",
          "height": 423
        },
        "id": "CKAR0wMAk2ze",
        "outputId": "5f9ed679-1142-4325-f7a5-39476f0f6f5b"
      },
      "source": [
        "#find volume of data per month\n",
        "monthly_data=(internet_df.groupby([ 'user_id', 'Month']).sum().reset_index())\n",
        "\n",
        "monthly_data['mb_used'] = (monthly_data['mb_used']/1024).apply(np.ceil)\n",
        "monthly_data.rename(columns = {'mb_used':'GB_used'}, inplace = True)\n",
        "\n",
        "monthly_data"
      ],
      "execution_count": null,
      "outputs": [
        {
          "output_type": "execute_result",
          "data": {
            "text/html": [
              "<div>\n",
              "<style scoped>\n",
              "    .dataframe tbody tr th:only-of-type {\n",
              "        vertical-align: middle;\n",
              "    }\n",
              "\n",
              "    .dataframe tbody tr th {\n",
              "        vertical-align: top;\n",
              "    }\n",
              "\n",
              "    .dataframe thead th {\n",
              "        text-align: right;\n",
              "    }\n",
              "</style>\n",
              "<table border=\"1\" class=\"dataframe\">\n",
              "  <thead>\n",
              "    <tr style=\"text-align: right;\">\n",
              "      <th></th>\n",
              "      <th>user_id</th>\n",
              "      <th>Month</th>\n",
              "      <th>GB_used</th>\n",
              "    </tr>\n",
              "  </thead>\n",
              "  <tbody>\n",
              "    <tr>\n",
              "      <th>0</th>\n",
              "      <td>1000</td>\n",
              "      <td>12</td>\n",
              "      <td>2.0</td>\n",
              "    </tr>\n",
              "    <tr>\n",
              "      <th>1</th>\n",
              "      <td>1001</td>\n",
              "      <td>8</td>\n",
              "      <td>7.0</td>\n",
              "    </tr>\n",
              "    <tr>\n",
              "      <th>2</th>\n",
              "      <td>1001</td>\n",
              "      <td>9</td>\n",
              "      <td>14.0</td>\n",
              "    </tr>\n",
              "    <tr>\n",
              "      <th>3</th>\n",
              "      <td>1001</td>\n",
              "      <td>10</td>\n",
              "      <td>22.0</td>\n",
              "    </tr>\n",
              "    <tr>\n",
              "      <th>4</th>\n",
              "      <td>1001</td>\n",
              "      <td>11</td>\n",
              "      <td>19.0</td>\n",
              "    </tr>\n",
              "    <tr>\n",
              "      <th>...</th>\n",
              "      <td>...</td>\n",
              "      <td>...</td>\n",
              "      <td>...</td>\n",
              "    </tr>\n",
              "    <tr>\n",
              "      <th>2272</th>\n",
              "      <td>1498</td>\n",
              "      <td>12</td>\n",
              "      <td>23.0</td>\n",
              "    </tr>\n",
              "    <tr>\n",
              "      <th>2273</th>\n",
              "      <td>1499</td>\n",
              "      <td>9</td>\n",
              "      <td>13.0</td>\n",
              "    </tr>\n",
              "    <tr>\n",
              "      <th>2274</th>\n",
              "      <td>1499</td>\n",
              "      <td>10</td>\n",
              "      <td>20.0</td>\n",
              "    </tr>\n",
              "    <tr>\n",
              "      <th>2275</th>\n",
              "      <td>1499</td>\n",
              "      <td>11</td>\n",
              "      <td>17.0</td>\n",
              "    </tr>\n",
              "    <tr>\n",
              "      <th>2276</th>\n",
              "      <td>1499</td>\n",
              "      <td>12</td>\n",
              "      <td>22.0</td>\n",
              "    </tr>\n",
              "  </tbody>\n",
              "</table>\n",
              "<p>2277 rows × 3 columns</p>\n",
              "</div>"
            ],
            "text/plain": [
              "      user_id  Month  GB_used\n",
              "0        1000     12      2.0\n",
              "1        1001      8      7.0\n",
              "2        1001      9     14.0\n",
              "3        1001     10     22.0\n",
              "4        1001     11     19.0\n",
              "...       ...    ...      ...\n",
              "2272     1498     12     23.0\n",
              "2273     1499      9     13.0\n",
              "2274     1499     10     20.0\n",
              "2275     1499     11     17.0\n",
              "2276     1499     12     22.0\n",
              "\n",
              "[2277 rows x 3 columns]"
            ]
          },
          "metadata": {},
          "execution_count": 98
        }
      ]
    },
    {
      "cell_type": "code",
      "metadata": {
        "colab": {
          "base_uri": "https://localhost:8080/",
          "height": 206
        },
        "id": "Zr5QAOarlwou",
        "outputId": "0c02adcf-ef98-401a-a5f7-94cdcbeb0888"
      },
      "source": [
        "#merging the dataframes\n",
        "data_frames = [monthlymessage, monthlycall_duration, monthly_data]\n",
        "from functools import reduce\n",
        "df_merged = reduce(lambda  left,right: pd.merge(left,right,on=['user_id', 'Month'],\n",
        "                                            how='outer'), data_frames)\n",
        "\n",
        "df_merged.head()"
      ],
      "execution_count": null,
      "outputs": [
        {
          "output_type": "execute_result",
          "data": {
            "text/html": [
              "<div>\n",
              "<style scoped>\n",
              "    .dataframe tbody tr th:only-of-type {\n",
              "        vertical-align: middle;\n",
              "    }\n",
              "\n",
              "    .dataframe tbody tr th {\n",
              "        vertical-align: top;\n",
              "    }\n",
              "\n",
              "    .dataframe thead th {\n",
              "        text-align: right;\n",
              "    }\n",
              "</style>\n",
              "<table border=\"1\" class=\"dataframe\">\n",
              "  <thead>\n",
              "    <tr style=\"text-align: right;\">\n",
              "      <th></th>\n",
              "      <th>user_id</th>\n",
              "      <th>Month</th>\n",
              "      <th>messages</th>\n",
              "      <th>duration</th>\n",
              "      <th>GB_used</th>\n",
              "    </tr>\n",
              "  </thead>\n",
              "  <tbody>\n",
              "    <tr>\n",
              "      <th>0</th>\n",
              "      <td>1000</td>\n",
              "      <td>12</td>\n",
              "      <td>11.0</td>\n",
              "      <td>124.0</td>\n",
              "      <td>2.0</td>\n",
              "    </tr>\n",
              "    <tr>\n",
              "      <th>1</th>\n",
              "      <td>1001</td>\n",
              "      <td>8</td>\n",
              "      <td>30.0</td>\n",
              "      <td>182.0</td>\n",
              "      <td>7.0</td>\n",
              "    </tr>\n",
              "    <tr>\n",
              "      <th>2</th>\n",
              "      <td>1001</td>\n",
              "      <td>9</td>\n",
              "      <td>44.0</td>\n",
              "      <td>315.0</td>\n",
              "      <td>14.0</td>\n",
              "    </tr>\n",
              "    <tr>\n",
              "      <th>3</th>\n",
              "      <td>1001</td>\n",
              "      <td>10</td>\n",
              "      <td>53.0</td>\n",
              "      <td>393.0</td>\n",
              "      <td>22.0</td>\n",
              "    </tr>\n",
              "    <tr>\n",
              "      <th>4</th>\n",
              "      <td>1001</td>\n",
              "      <td>11</td>\n",
              "      <td>36.0</td>\n",
              "      <td>426.0</td>\n",
              "      <td>19.0</td>\n",
              "    </tr>\n",
              "  </tbody>\n",
              "</table>\n",
              "</div>"
            ],
            "text/plain": [
              "   user_id  Month  messages  duration  GB_used\n",
              "0     1000     12      11.0     124.0      2.0\n",
              "1     1001      8      30.0     182.0      7.0\n",
              "2     1001      9      44.0     315.0     14.0\n",
              "3     1001     10      53.0     393.0     22.0\n",
              "4     1001     11      36.0     426.0     19.0"
            ]
          },
          "metadata": {},
          "execution_count": 99
        }
      ]
    },
    {
      "cell_type": "code",
      "metadata": {
        "colab": {
          "base_uri": "https://localhost:8080/",
          "height": 206
        },
        "id": "C9l6Ezjb8egN",
        "outputId": "da432095-dea4-49c9-a301-dbe23ca15b8d"
      },
      "source": [
        "#merging the dataframes\n",
        "\n",
        "data_f = [users_df, df_merged]\n",
        "\n",
        "df_merged2 = reduce(lambda  left,right: pd.merge(left,right,on=['user_id'],\n",
        "                                            how='outer'), data_f)\n",
        "\n",
        "df_merged2.head()"
      ],
      "execution_count": null,
      "outputs": [
        {
          "output_type": "execute_result",
          "data": {
            "text/html": [
              "<div>\n",
              "<style scoped>\n",
              "    .dataframe tbody tr th:only-of-type {\n",
              "        vertical-align: middle;\n",
              "    }\n",
              "\n",
              "    .dataframe tbody tr th {\n",
              "        vertical-align: top;\n",
              "    }\n",
              "\n",
              "    .dataframe thead th {\n",
              "        text-align: right;\n",
              "    }\n",
              "</style>\n",
              "<table border=\"1\" class=\"dataframe\">\n",
              "  <thead>\n",
              "    <tr style=\"text-align: right;\">\n",
              "      <th></th>\n",
              "      <th>user_id</th>\n",
              "      <th>city</th>\n",
              "      <th>plan</th>\n",
              "      <th>Month</th>\n",
              "      <th>messages</th>\n",
              "      <th>duration</th>\n",
              "      <th>GB_used</th>\n",
              "    </tr>\n",
              "  </thead>\n",
              "  <tbody>\n",
              "    <tr>\n",
              "      <th>0</th>\n",
              "      <td>1000</td>\n",
              "      <td>Atlanta-Sandy Springs-Roswell, GA MSA</td>\n",
              "      <td>ultimate</td>\n",
              "      <td>12.0</td>\n",
              "      <td>11.0</td>\n",
              "      <td>124.0</td>\n",
              "      <td>2.0</td>\n",
              "    </tr>\n",
              "    <tr>\n",
              "      <th>1</th>\n",
              "      <td>1001</td>\n",
              "      <td>Seattle-Tacoma-Bellevue, WA MSA</td>\n",
              "      <td>surf</td>\n",
              "      <td>8.0</td>\n",
              "      <td>30.0</td>\n",
              "      <td>182.0</td>\n",
              "      <td>7.0</td>\n",
              "    </tr>\n",
              "    <tr>\n",
              "      <th>2</th>\n",
              "      <td>1001</td>\n",
              "      <td>Seattle-Tacoma-Bellevue, WA MSA</td>\n",
              "      <td>surf</td>\n",
              "      <td>9.0</td>\n",
              "      <td>44.0</td>\n",
              "      <td>315.0</td>\n",
              "      <td>14.0</td>\n",
              "    </tr>\n",
              "    <tr>\n",
              "      <th>3</th>\n",
              "      <td>1001</td>\n",
              "      <td>Seattle-Tacoma-Bellevue, WA MSA</td>\n",
              "      <td>surf</td>\n",
              "      <td>10.0</td>\n",
              "      <td>53.0</td>\n",
              "      <td>393.0</td>\n",
              "      <td>22.0</td>\n",
              "    </tr>\n",
              "    <tr>\n",
              "      <th>4</th>\n",
              "      <td>1001</td>\n",
              "      <td>Seattle-Tacoma-Bellevue, WA MSA</td>\n",
              "      <td>surf</td>\n",
              "      <td>11.0</td>\n",
              "      <td>36.0</td>\n",
              "      <td>426.0</td>\n",
              "      <td>19.0</td>\n",
              "    </tr>\n",
              "  </tbody>\n",
              "</table>\n",
              "</div>"
            ],
            "text/plain": [
              "   user_id                                   city  ... duration  GB_used\n",
              "0     1000  Atlanta-Sandy Springs-Roswell, GA MSA  ...    124.0      2.0\n",
              "1     1001        Seattle-Tacoma-Bellevue, WA MSA  ...    182.0      7.0\n",
              "2     1001        Seattle-Tacoma-Bellevue, WA MSA  ...    315.0     14.0\n",
              "3     1001        Seattle-Tacoma-Bellevue, WA MSA  ...    393.0     22.0\n",
              "4     1001        Seattle-Tacoma-Bellevue, WA MSA  ...    426.0     19.0\n",
              "\n",
              "[5 rows x 7 columns]"
            ]
          },
          "metadata": {},
          "execution_count": 100
        }
      ]
    },
    {
      "cell_type": "code",
      "metadata": {
        "colab": {
          "base_uri": "https://localhost:8080/"
        },
        "id": "nmjVB2TOF7s5",
        "outputId": "826a9200-7dd1-4963-93c9-41709df2ac86"
      },
      "source": [
        "#replace null values to 0 and convert columns into proper datatypes\n",
        "\n",
        "df_merged2=df_merged2.replace(np.nan, 0)\n",
        "\n",
        "df_merged2[['Month', 'messages', 'duration', 'GB_used']] = df_merged2[['Month', 'messages', 'duration', 'GB_used']].astype(int)\n",
        "\n",
        "df_merged2[['city', 'plan']] = df_merged2[['city', 'plan']].astype(str)\n",
        "\n",
        "df_merged2.dtypes"
      ],
      "execution_count": null,
      "outputs": [
        {
          "output_type": "execute_result",
          "data": {
            "text/plain": [
              "user_id      int64\n",
              "city        object\n",
              "plan        object\n",
              "Month        int64\n",
              "messages     int64\n",
              "duration     int64\n",
              "GB_used      int64\n",
              "dtype: object"
            ]
          },
          "metadata": {},
          "execution_count": 101
        }
      ]
    },
    {
      "cell_type": "code",
      "metadata": {
        "colab": {
          "base_uri": "https://localhost:8080/",
          "height": 132
        },
        "id": "xKh94rD9POuk",
        "outputId": "220fc81d-2516-407c-a2fa-c20f6b291da7"
      },
      "source": [
        "# rename plans_df plan column to match user_df plan column\n",
        "plans_df.rename(columns={'plan_name': 'plan'}, inplace=True)\n",
        "\n",
        "#convert mb to GB\n",
        "plans_df['mb_per_month_included']=plans_df['mb_per_month_included']/1024\n",
        "plans_df.rename(columns = {'mb_per_month_included':'GB_per_month_included'}, inplace = True)\n",
        "plans_df\n"
      ],
      "execution_count": null,
      "outputs": [
        {
          "output_type": "execute_result",
          "data": {
            "text/html": [
              "<div>\n",
              "<style scoped>\n",
              "    .dataframe tbody tr th:only-of-type {\n",
              "        vertical-align: middle;\n",
              "    }\n",
              "\n",
              "    .dataframe tbody tr th {\n",
              "        vertical-align: top;\n",
              "    }\n",
              "\n",
              "    .dataframe thead th {\n",
              "        text-align: right;\n",
              "    }\n",
              "</style>\n",
              "<table border=\"1\" class=\"dataframe\">\n",
              "  <thead>\n",
              "    <tr style=\"text-align: right;\">\n",
              "      <th></th>\n",
              "      <th>messages_included</th>\n",
              "      <th>GB_per_month_included</th>\n",
              "      <th>minutes_included</th>\n",
              "      <th>usd_monthly_pay</th>\n",
              "      <th>usd_per_gb</th>\n",
              "      <th>usd_per_message</th>\n",
              "      <th>usd_per_minute</th>\n",
              "      <th>plan</th>\n",
              "    </tr>\n",
              "  </thead>\n",
              "  <tbody>\n",
              "    <tr>\n",
              "      <th>0</th>\n",
              "      <td>50</td>\n",
              "      <td>15.0</td>\n",
              "      <td>500</td>\n",
              "      <td>20</td>\n",
              "      <td>10</td>\n",
              "      <td>0.03</td>\n",
              "      <td>0.03</td>\n",
              "      <td>surf</td>\n",
              "    </tr>\n",
              "    <tr>\n",
              "      <th>1</th>\n",
              "      <td>1000</td>\n",
              "      <td>30.0</td>\n",
              "      <td>3000</td>\n",
              "      <td>70</td>\n",
              "      <td>7</td>\n",
              "      <td>0.01</td>\n",
              "      <td>0.01</td>\n",
              "      <td>ultimate</td>\n",
              "    </tr>\n",
              "  </tbody>\n",
              "</table>\n",
              "</div>"
            ],
            "text/plain": [
              "   messages_included  GB_per_month_included  ...  usd_per_minute      plan\n",
              "0                 50                   15.0  ...            0.03      surf\n",
              "1               1000                   30.0  ...            0.01  ultimate\n",
              "\n",
              "[2 rows x 8 columns]"
            ]
          },
          "metadata": {},
          "execution_count": 102
        }
      ]
    },
    {
      "cell_type": "code",
      "metadata": {
        "colab": {
          "base_uri": "https://localhost:8080/",
          "height": 271
        },
        "id": "WlqOSkGpPoab",
        "outputId": "62c1bd45-2ab2-4fa2-f4d0-c9ca0368cb9e"
      },
      "source": [
        "data_ff = [df_merged2, plans_df]\n",
        "\n",
        "df_merged3 = reduce(lambda  left,right: pd.merge(left,right,on=['plan'],\n",
        "                                            how='outer'), data_ff)\n",
        "df_merged3.head(2)"
      ],
      "execution_count": null,
      "outputs": [
        {
          "output_type": "execute_result",
          "data": {
            "text/html": [
              "<div>\n",
              "<style scoped>\n",
              "    .dataframe tbody tr th:only-of-type {\n",
              "        vertical-align: middle;\n",
              "    }\n",
              "\n",
              "    .dataframe tbody tr th {\n",
              "        vertical-align: top;\n",
              "    }\n",
              "\n",
              "    .dataframe thead th {\n",
              "        text-align: right;\n",
              "    }\n",
              "</style>\n",
              "<table border=\"1\" class=\"dataframe\">\n",
              "  <thead>\n",
              "    <tr style=\"text-align: right;\">\n",
              "      <th></th>\n",
              "      <th>user_id</th>\n",
              "      <th>city</th>\n",
              "      <th>plan</th>\n",
              "      <th>Month</th>\n",
              "      <th>messages</th>\n",
              "      <th>duration</th>\n",
              "      <th>GB_used</th>\n",
              "      <th>messages_included</th>\n",
              "      <th>GB_per_month_included</th>\n",
              "      <th>minutes_included</th>\n",
              "      <th>usd_monthly_pay</th>\n",
              "      <th>usd_per_gb</th>\n",
              "      <th>usd_per_message</th>\n",
              "      <th>usd_per_minute</th>\n",
              "    </tr>\n",
              "  </thead>\n",
              "  <tbody>\n",
              "    <tr>\n",
              "      <th>0</th>\n",
              "      <td>1000</td>\n",
              "      <td>Atlanta-Sandy Springs-Roswell, GA MSA</td>\n",
              "      <td>ultimate</td>\n",
              "      <td>12</td>\n",
              "      <td>11</td>\n",
              "      <td>124</td>\n",
              "      <td>2</td>\n",
              "      <td>1000</td>\n",
              "      <td>30.0</td>\n",
              "      <td>3000</td>\n",
              "      <td>70</td>\n",
              "      <td>7</td>\n",
              "      <td>0.01</td>\n",
              "      <td>0.01</td>\n",
              "    </tr>\n",
              "    <tr>\n",
              "      <th>1</th>\n",
              "      <td>1006</td>\n",
              "      <td>San Francisco-Oakland-Berkeley, CA MSA</td>\n",
              "      <td>ultimate</td>\n",
              "      <td>11</td>\n",
              "      <td>15</td>\n",
              "      <td>10</td>\n",
              "      <td>3</td>\n",
              "      <td>1000</td>\n",
              "      <td>30.0</td>\n",
              "      <td>3000</td>\n",
              "      <td>70</td>\n",
              "      <td>7</td>\n",
              "      <td>0.01</td>\n",
              "      <td>0.01</td>\n",
              "    </tr>\n",
              "  </tbody>\n",
              "</table>\n",
              "</div>"
            ],
            "text/plain": [
              "   user_id  ... usd_per_minute\n",
              "0     1000  ...           0.01\n",
              "1     1006  ...           0.01\n",
              "\n",
              "[2 rows x 14 columns]"
            ]
          },
          "metadata": {},
          "execution_count": 103
        }
      ]
    },
    {
      "cell_type": "code",
      "metadata": {
        "id": "BcRd-p_8gkH1"
      },
      "source": [
        "options = ['surf']\n",
        "options2 = ['ultimate']\n",
        "surf_customers = df_merged3.loc[df_merged3['plan'].isin(options)]\n",
        "ultimate_customers= df_merged3.loc[df_merged3['plan'].isin(options2)]"
      ],
      "execution_count": null,
      "outputs": []
    },
    {
      "cell_type": "code",
      "metadata": {
        "id": "xUT6J5NMT6-B"
      },
      "source": [
        "#function to calculate surf plan monthly revenue\n",
        "\n",
        "def evaluateCharges(df1):\n",
        "    \n",
        "   \n",
        "    df1['TotalmonthlyCharges']= df1['usd_monthly_pay']\n",
        "    \n",
        "    \n",
        "    #performing different actions based on the conditions indicated in the question.\n",
        "    \n",
        "    df1.loc[df1['duration'] > 500, 'TotalmonthlyCharges'] = df1['TotalmonthlyCharges']+(df1['duration']-500)*0.03 \n",
        "    \n",
        "    df1.loc[df1['messages'] > 50, 'TotalmonthlyCharges']= df1['TotalmonthlyCharges']+ (df1['messages']-50)*0.03 \n",
        "    \n",
        "    df1.loc[df1['GB_used'] > 15, 'TotalmonthlyCharges'] = df1['TotalmonthlyCharges']+ (df1['GB_used']-15)*10 \n",
        "    \n",
        "\n",
        "    \n",
        "    return df1\n",
        "\n",
        "\n"
      ],
      "execution_count": null,
      "outputs": []
    },
    {
      "cell_type": "code",
      "metadata": {
        "id": "K61qrZ4C5e9p"
      },
      "source": [
        "surfmonthly_revenue_peruser=evaluateCharges(surf_customers)\n"
      ],
      "execution_count": null,
      "outputs": []
    },
    {
      "cell_type": "code",
      "metadata": {
        "colab": {
          "base_uri": "https://localhost:8080/",
          "height": 487
        },
        "id": "x38IVYd5Lrmw",
        "outputId": "cf5989c8-4341-4b46-d386-fe7e0b1bd09a"
      },
      "source": [
        "surfmonthly_revenue_peruser.head()"
      ],
      "execution_count": null,
      "outputs": [
        {
          "output_type": "execute_result",
          "data": {
            "text/html": [
              "<div>\n",
              "<style scoped>\n",
              "    .dataframe tbody tr th:only-of-type {\n",
              "        vertical-align: middle;\n",
              "    }\n",
              "\n",
              "    .dataframe tbody tr th {\n",
              "        vertical-align: top;\n",
              "    }\n",
              "\n",
              "    .dataframe thead th {\n",
              "        text-align: right;\n",
              "    }\n",
              "</style>\n",
              "<table border=\"1\" class=\"dataframe\">\n",
              "  <thead>\n",
              "    <tr style=\"text-align: right;\">\n",
              "      <th></th>\n",
              "      <th>user_id</th>\n",
              "      <th>city</th>\n",
              "      <th>plan</th>\n",
              "      <th>Month</th>\n",
              "      <th>messages</th>\n",
              "      <th>duration</th>\n",
              "      <th>GB_used</th>\n",
              "      <th>messages_included</th>\n",
              "      <th>GB_per_month_included</th>\n",
              "      <th>minutes_included</th>\n",
              "      <th>usd_monthly_pay</th>\n",
              "      <th>usd_per_gb</th>\n",
              "      <th>usd_per_message</th>\n",
              "      <th>usd_per_minute</th>\n",
              "      <th>TotalmonthlyCharges</th>\n",
              "    </tr>\n",
              "  </thead>\n",
              "  <tbody>\n",
              "    <tr>\n",
              "      <th>724</th>\n",
              "      <td>1001</td>\n",
              "      <td>Seattle-Tacoma-Bellevue, WA MSA</td>\n",
              "      <td>surf</td>\n",
              "      <td>8</td>\n",
              "      <td>30</td>\n",
              "      <td>182</td>\n",
              "      <td>7</td>\n",
              "      <td>50</td>\n",
              "      <td>15.0</td>\n",
              "      <td>500</td>\n",
              "      <td>20</td>\n",
              "      <td>10</td>\n",
              "      <td>0.03</td>\n",
              "      <td>0.03</td>\n",
              "      <td>20.00</td>\n",
              "    </tr>\n",
              "    <tr>\n",
              "      <th>725</th>\n",
              "      <td>1001</td>\n",
              "      <td>Seattle-Tacoma-Bellevue, WA MSA</td>\n",
              "      <td>surf</td>\n",
              "      <td>9</td>\n",
              "      <td>44</td>\n",
              "      <td>315</td>\n",
              "      <td>14</td>\n",
              "      <td>50</td>\n",
              "      <td>15.0</td>\n",
              "      <td>500</td>\n",
              "      <td>20</td>\n",
              "      <td>10</td>\n",
              "      <td>0.03</td>\n",
              "      <td>0.03</td>\n",
              "      <td>20.00</td>\n",
              "    </tr>\n",
              "    <tr>\n",
              "      <th>726</th>\n",
              "      <td>1001</td>\n",
              "      <td>Seattle-Tacoma-Bellevue, WA MSA</td>\n",
              "      <td>surf</td>\n",
              "      <td>10</td>\n",
              "      <td>53</td>\n",
              "      <td>393</td>\n",
              "      <td>22</td>\n",
              "      <td>50</td>\n",
              "      <td>15.0</td>\n",
              "      <td>500</td>\n",
              "      <td>20</td>\n",
              "      <td>10</td>\n",
              "      <td>0.03</td>\n",
              "      <td>0.03</td>\n",
              "      <td>90.09</td>\n",
              "    </tr>\n",
              "    <tr>\n",
              "      <th>727</th>\n",
              "      <td>1001</td>\n",
              "      <td>Seattle-Tacoma-Bellevue, WA MSA</td>\n",
              "      <td>surf</td>\n",
              "      <td>11</td>\n",
              "      <td>36</td>\n",
              "      <td>426</td>\n",
              "      <td>19</td>\n",
              "      <td>50</td>\n",
              "      <td>15.0</td>\n",
              "      <td>500</td>\n",
              "      <td>20</td>\n",
              "      <td>10</td>\n",
              "      <td>0.03</td>\n",
              "      <td>0.03</td>\n",
              "      <td>60.00</td>\n",
              "    </tr>\n",
              "    <tr>\n",
              "      <th>728</th>\n",
              "      <td>1001</td>\n",
              "      <td>Seattle-Tacoma-Bellevue, WA MSA</td>\n",
              "      <td>surf</td>\n",
              "      <td>12</td>\n",
              "      <td>44</td>\n",
              "      <td>412</td>\n",
              "      <td>19</td>\n",
              "      <td>50</td>\n",
              "      <td>15.0</td>\n",
              "      <td>500</td>\n",
              "      <td>20</td>\n",
              "      <td>10</td>\n",
              "      <td>0.03</td>\n",
              "      <td>0.03</td>\n",
              "      <td>60.00</td>\n",
              "    </tr>\n",
              "  </tbody>\n",
              "</table>\n",
              "</div>"
            ],
            "text/plain": [
              "     user_id  ... TotalmonthlyCharges\n",
              "724     1001  ...               20.00\n",
              "725     1001  ...               20.00\n",
              "726     1001  ...               90.09\n",
              "727     1001  ...               60.00\n",
              "728     1001  ...               60.00\n",
              "\n",
              "[5 rows x 15 columns]"
            ]
          },
          "metadata": {},
          "execution_count": 107
        }
      ]
    },
    {
      "cell_type": "code",
      "metadata": {
        "id": "Kc2eZ0Ct87qD"
      },
      "source": [
        "#function to calculate ultimate plan monthly revenue\n",
        "def evaluateCharges_ultimateplan(df2):\n",
        "    \n",
        "   \n",
        "    df2['TotalmonthlyCharges']= df2['usd_monthly_pay']\n",
        "    \n",
        "    \n",
        "    #performing different actions based on the conditions indicated in the question.\n",
        "    \n",
        "    df2.loc[df2['duration'] > 3000, 'TotalmonthlyCharges'] = df2['TotalmonthlyCharges'] +(df2['duration']-3000) * 0.01 \n",
        "    \n",
        "    df2.loc[df2['messages'] > 1000, 'TotalmonthlyCharges']= df2['TotalmonthlyCharges'] + (df2['messages']-1000) * 0.01 \n",
        "    \n",
        "    df2.loc[df2['GB_used'] > 30, 'TotalmonthlyCharges'] = df2['TotalmonthlyCharges'] + (df2['GB_used'] - 30) * 7 \n",
        "    \n",
        "\n",
        "    \n",
        "    return df2\n",
        "\n"
      ],
      "execution_count": null,
      "outputs": []
    },
    {
      "cell_type": "code",
      "metadata": {
        "id": "rygnXpShUwWi"
      },
      "source": [
        "ultimatemonthly_revenue_peruser=evaluateCharges_ultimateplan(ultimate_customers)"
      ],
      "execution_count": null,
      "outputs": []
    },
    {
      "cell_type": "code",
      "metadata": {
        "colab": {
          "base_uri": "https://localhost:8080/",
          "height": 469
        },
        "id": "OnWSOrLEW-ZI",
        "outputId": "f72e56c2-b6a3-44e9-c84c-b1f463a68b19"
      },
      "source": [
        "ultimatemonthly_revenue_peruser.sample(5)"
      ],
      "execution_count": null,
      "outputs": [
        {
          "output_type": "execute_result",
          "data": {
            "text/html": [
              "<div>\n",
              "<style scoped>\n",
              "    .dataframe tbody tr th:only-of-type {\n",
              "        vertical-align: middle;\n",
              "    }\n",
              "\n",
              "    .dataframe tbody tr th {\n",
              "        vertical-align: top;\n",
              "    }\n",
              "\n",
              "    .dataframe thead th {\n",
              "        text-align: right;\n",
              "    }\n",
              "</style>\n",
              "<table border=\"1\" class=\"dataframe\">\n",
              "  <thead>\n",
              "    <tr style=\"text-align: right;\">\n",
              "      <th></th>\n",
              "      <th>user_id</th>\n",
              "      <th>city</th>\n",
              "      <th>plan</th>\n",
              "      <th>Month</th>\n",
              "      <th>messages</th>\n",
              "      <th>duration</th>\n",
              "      <th>GB_used</th>\n",
              "      <th>messages_included</th>\n",
              "      <th>GB_per_month_included</th>\n",
              "      <th>minutes_included</th>\n",
              "      <th>usd_monthly_pay</th>\n",
              "      <th>usd_per_gb</th>\n",
              "      <th>usd_per_message</th>\n",
              "      <th>usd_per_minute</th>\n",
              "      <th>TotalmonthlyCharges</th>\n",
              "    </tr>\n",
              "  </thead>\n",
              "  <tbody>\n",
              "    <tr>\n",
              "      <th>477</th>\n",
              "      <td>1363</td>\n",
              "      <td>Seattle-Tacoma-Bellevue, WA MSA</td>\n",
              "      <td>ultimate</td>\n",
              "      <td>10</td>\n",
              "      <td>41</td>\n",
              "      <td>385</td>\n",
              "      <td>17</td>\n",
              "      <td>1000</td>\n",
              "      <td>30.0</td>\n",
              "      <td>3000</td>\n",
              "      <td>70</td>\n",
              "      <td>7</td>\n",
              "      <td>0.01</td>\n",
              "      <td>0.01</td>\n",
              "      <td>70</td>\n",
              "    </tr>\n",
              "    <tr>\n",
              "      <th>9</th>\n",
              "      <td>1011</td>\n",
              "      <td>Cleveland-Elyria, OH MSA</td>\n",
              "      <td>ultimate</td>\n",
              "      <td>9</td>\n",
              "      <td>60</td>\n",
              "      <td>484</td>\n",
              "      <td>17</td>\n",
              "      <td>1000</td>\n",
              "      <td>30.0</td>\n",
              "      <td>3000</td>\n",
              "      <td>70</td>\n",
              "      <td>7</td>\n",
              "      <td>0.01</td>\n",
              "      <td>0.01</td>\n",
              "      <td>70</td>\n",
              "    </tr>\n",
              "    <tr>\n",
              "      <th>135</th>\n",
              "      <td>1077</td>\n",
              "      <td>Charlotte-Concord-Gastonia, NC-SC MSA</td>\n",
              "      <td>ultimate</td>\n",
              "      <td>7</td>\n",
              "      <td>73</td>\n",
              "      <td>808</td>\n",
              "      <td>20</td>\n",
              "      <td>1000</td>\n",
              "      <td>30.0</td>\n",
              "      <td>3000</td>\n",
              "      <td>70</td>\n",
              "      <td>7</td>\n",
              "      <td>0.01</td>\n",
              "      <td>0.01</td>\n",
              "      <td>70</td>\n",
              "    </tr>\n",
              "    <tr>\n",
              "      <th>186</th>\n",
              "      <td>1128</td>\n",
              "      <td>Knoxville, TN MSA</td>\n",
              "      <td>ultimate</td>\n",
              "      <td>9</td>\n",
              "      <td>43</td>\n",
              "      <td>18</td>\n",
              "      <td>21</td>\n",
              "      <td>1000</td>\n",
              "      <td>30.0</td>\n",
              "      <td>3000</td>\n",
              "      <td>70</td>\n",
              "      <td>7</td>\n",
              "      <td>0.01</td>\n",
              "      <td>0.01</td>\n",
              "      <td>70</td>\n",
              "    </tr>\n",
              "    <tr>\n",
              "      <th>583</th>\n",
              "      <td>1420</td>\n",
              "      <td>San Francisco-Oakland-Berkeley, CA MSA</td>\n",
              "      <td>ultimate</td>\n",
              "      <td>8</td>\n",
              "      <td>2</td>\n",
              "      <td>424</td>\n",
              "      <td>18</td>\n",
              "      <td>1000</td>\n",
              "      <td>30.0</td>\n",
              "      <td>3000</td>\n",
              "      <td>70</td>\n",
              "      <td>7</td>\n",
              "      <td>0.01</td>\n",
              "      <td>0.01</td>\n",
              "      <td>70</td>\n",
              "    </tr>\n",
              "  </tbody>\n",
              "</table>\n",
              "</div>"
            ],
            "text/plain": [
              "     user_id  ... TotalmonthlyCharges\n",
              "477     1363  ...                  70\n",
              "9       1011  ...                  70\n",
              "135     1077  ...                  70\n",
              "186     1128  ...                  70\n",
              "583     1420  ...                  70\n",
              "\n",
              "[5 rows x 15 columns]"
            ]
          },
          "metadata": {},
          "execution_count": 110
        }
      ]
    },
    {
      "cell_type": "code",
      "metadata": {
        "colab": {
          "base_uri": "https://localhost:8080/",
          "height": 206
        },
        "id": "UYCA8MQRZqMe",
        "outputId": "2fadc067-998e-46ac-bd50-6dfd43fc5b01"
      },
      "source": [
        "#surf plan mean\n",
        "\n",
        "\n",
        "monthyusage=surfmonthly_revenue_peruser[['user_id', 'messages','duration', 'GB_used']]\n",
        "monthyaverage= monthyusage.groupby([ 'user_id']).mean().reset_index()\n",
        "monthyaverage.head()"
      ],
      "execution_count": null,
      "outputs": [
        {
          "output_type": "execute_result",
          "data": {
            "text/html": [
              "<div>\n",
              "<style scoped>\n",
              "    .dataframe tbody tr th:only-of-type {\n",
              "        vertical-align: middle;\n",
              "    }\n",
              "\n",
              "    .dataframe tbody tr th {\n",
              "        vertical-align: top;\n",
              "    }\n",
              "\n",
              "    .dataframe thead th {\n",
              "        text-align: right;\n",
              "    }\n",
              "</style>\n",
              "<table border=\"1\" class=\"dataframe\">\n",
              "  <thead>\n",
              "    <tr style=\"text-align: right;\">\n",
              "      <th></th>\n",
              "      <th>user_id</th>\n",
              "      <th>messages</th>\n",
              "      <th>duration</th>\n",
              "      <th>GB_used</th>\n",
              "    </tr>\n",
              "  </thead>\n",
              "  <tbody>\n",
              "    <tr>\n",
              "      <th>0</th>\n",
              "      <td>1001</td>\n",
              "      <td>41.400000</td>\n",
              "      <td>345.600000</td>\n",
              "      <td>16.200000</td>\n",
              "    </tr>\n",
              "    <tr>\n",
              "      <th>1</th>\n",
              "      <td>1002</td>\n",
              "      <td>29.333333</td>\n",
              "      <td>276.333333</td>\n",
              "      <td>13.666667</td>\n",
              "    </tr>\n",
              "    <tr>\n",
              "      <th>2</th>\n",
              "      <td>1003</td>\n",
              "      <td>50.000000</td>\n",
              "      <td>1104.000000</td>\n",
              "      <td>27.000000</td>\n",
              "    </tr>\n",
              "    <tr>\n",
              "      <th>3</th>\n",
              "      <td>1004</td>\n",
              "      <td>22.125000</td>\n",
              "      <td>346.500000</td>\n",
              "      <td>19.625000</td>\n",
              "    </tr>\n",
              "    <tr>\n",
              "      <th>4</th>\n",
              "      <td>1005</td>\n",
              "      <td>11.000000</td>\n",
              "      <td>496.000000</td>\n",
              "      <td>17.000000</td>\n",
              "    </tr>\n",
              "  </tbody>\n",
              "</table>\n",
              "</div>"
            ],
            "text/plain": [
              "   user_id   messages     duration    GB_used\n",
              "0     1001  41.400000   345.600000  16.200000\n",
              "1     1002  29.333333   276.333333  13.666667\n",
              "2     1003  50.000000  1104.000000  27.000000\n",
              "3     1004  22.125000   346.500000  19.625000\n",
              "4     1005  11.000000   496.000000  17.000000"
            ]
          },
          "metadata": {},
          "execution_count": 111
        }
      ]
    },
    {
      "cell_type": "code",
      "metadata": {
        "id": "0_XLmrtphdQB"
      },
      "source": [
        "#Variance, Std deviation surf\n",
        "monthyusage.var()\n",
        "monthyusage.std()"
      ],
      "execution_count": null,
      "outputs": []
    },
    {
      "cell_type": "code",
      "metadata": {
        "colab": {
          "base_uri": "https://localhost:8080/",
          "height": 350
        },
        "id": "x4d1qRpOitif",
        "outputId": "94c042d3-c7c5-4132-811a-af54fc5245f2"
      },
      "source": [
        "#plots of distribution of average user monthly calls\n",
        "\n",
        "\n",
        "\n",
        "fig, axes = plt.subplots(nrows = 1, ncols = 2, figsize = (12, 4))\n",
        "\n",
        "plt.subplot(1, 2, 1)\n",
        "monthyaverage.duration.hist(color = '#ff7f0e')\n",
        "plt.title('Histogram of user monthly average calls')\n",
        "\n",
        "plt.subplot(1, 2, 2)\n",
        "sns.boxplot(monthyaverage.duration, color = '#9467bd')\n",
        "plt.title('Box plot user monthly average calls')\n",
        "\n",
        "plt.show()\n"
      ],
      "execution_count": null,
      "outputs": [
        {
          "output_type": "stream",
          "name": "stderr",
          "text": [
            "/usr/local/lib/python3.7/dist-packages/seaborn/_decorators.py:43: FutureWarning: Pass the following variable as a keyword arg: x. From version 0.12, the only valid positional argument will be `data`, and passing other arguments without an explicit keyword will result in an error or misinterpretation.\n",
            "  FutureWarning\n"
          ]
        },
        {
          "output_type": "display_data",
          "data": {
            "image/png": "[encoded data removed]",
            "text/plain": [
              "<Figure size 864x288 with 2 Axes>"
            ]
          },
          "metadata": {
            "needs_background": "light"
          }
        }
      ]
    },
    {
      "cell_type": "code",
      "metadata": {
        "colab": {
          "base_uri": "https://localhost:8080/",
          "height": 206
        },
        "id": "9C8_iOlXcWqR",
        "outputId": "5f2f7b2c-4af8-40ca-c985-1a2be4a11796"
      },
      "source": [
        "#ultimate plan\n",
        "\n",
        "monthyusage_ultimate=ultimatemonthly_revenue_peruser[['user_id', 'messages','duration', 'GB_used']]\n",
        "monthyaverage_ultimate= monthyusage_ultimate.groupby([ 'user_id']).mean().reset_index()\n",
        "monthyaverage_ultimate.head()"
      ],
      "execution_count": null,
      "outputs": [
        {
          "output_type": "execute_result",
          "data": {
            "text/html": [
              "<div>\n",
              "<style scoped>\n",
              "    .dataframe tbody tr th:only-of-type {\n",
              "        vertical-align: middle;\n",
              "    }\n",
              "\n",
              "    .dataframe tbody tr th {\n",
              "        vertical-align: top;\n",
              "    }\n",
              "\n",
              "    .dataframe thead th {\n",
              "        text-align: right;\n",
              "    }\n",
              "</style>\n",
              "<table border=\"1\" class=\"dataframe\">\n",
              "  <thead>\n",
              "    <tr style=\"text-align: right;\">\n",
              "      <th></th>\n",
              "      <th>user_id</th>\n",
              "      <th>messages</th>\n",
              "      <th>duration</th>\n",
              "      <th>GB_used</th>\n",
              "    </tr>\n",
              "  </thead>\n",
              "  <tbody>\n",
              "    <tr>\n",
              "      <th>0</th>\n",
              "      <td>1000</td>\n",
              "      <td>11.0</td>\n",
              "      <td>124.000000</td>\n",
              "      <td>2.000000</td>\n",
              "    </tr>\n",
              "    <tr>\n",
              "      <th>1</th>\n",
              "      <td>1006</td>\n",
              "      <td>77.0</td>\n",
              "      <td>34.500000</td>\n",
              "      <td>17.500000</td>\n",
              "    </tr>\n",
              "    <tr>\n",
              "      <th>2</th>\n",
              "      <td>1008</td>\n",
              "      <td>28.0</td>\n",
              "      <td>518.666667</td>\n",
              "      <td>18.666667</td>\n",
              "    </tr>\n",
              "    <tr>\n",
              "      <th>3</th>\n",
              "      <td>1011</td>\n",
              "      <td>53.0</td>\n",
              "      <td>415.285714</td>\n",
              "      <td>18.857143</td>\n",
              "    </tr>\n",
              "    <tr>\n",
              "      <th>4</th>\n",
              "      <td>1013</td>\n",
              "      <td>16.0</td>\n",
              "      <td>219.000000</td>\n",
              "      <td>20.000000</td>\n",
              "    </tr>\n",
              "  </tbody>\n",
              "</table>\n",
              "</div>"
            ],
            "text/plain": [
              "   user_id  messages    duration    GB_used\n",
              "0     1000      11.0  124.000000   2.000000\n",
              "1     1006      77.0   34.500000  17.500000\n",
              "2     1008      28.0  518.666667  18.666667\n",
              "3     1011      53.0  415.285714  18.857143\n",
              "4     1013      16.0  219.000000  20.000000"
            ]
          },
          "metadata": {},
          "execution_count": 112
        }
      ]
    },
    {
      "cell_type": "code",
      "metadata": {
        "id": "bApxm5_zijiB"
      },
      "source": [
        "#Variance, Std deviation surf\n",
        "monthyusage_ultimate.var()\n",
        "monthyusage_ultimate.std()"
      ],
      "execution_count": null,
      "outputs": []
    },
    {
      "cell_type": "code",
      "metadata": {
        "colab": {
          "base_uri": "https://localhost:8080/",
          "height": 351
        },
        "id": "TKLY2jRLirAp",
        "outputId": "745af066-4ad2-40cb-e6e5-f9426a9bad7b"
      },
      "source": [
        "#plots of distribution average user monthly data\n",
        "\n",
        "\n",
        "fig, axes = plt.subplots(nrows = 1, ncols = 2, figsize = (12, 4))\n",
        "\n",
        "plt.subplot(1, 2, 1)\n",
        "monthyaverage_ultimate.GB_used.hist(color = '#ff7f0e')\n",
        "plt.title('Histogram of user average monthly data')\n",
        "\n",
        "plt.subplot(1, 2, 2)\n",
        "sns.boxplot(monthyaverage_ultimate.GB_used, color = '#9467bd')\n",
        "plt.title('Box plot of user average monthly data')\n",
        "\n",
        "plt.show()"
      ],
      "execution_count": null,
      "outputs": [
        {
          "output_type": "stream",
          "name": "stderr",
          "text": [
            "/usr/local/lib/python3.7/dist-packages/seaborn/_decorators.py:43: FutureWarning: Pass the following variable as a keyword arg: x. From version 0.12, the only valid positional argument will be `data`, and passing other arguments without an explicit keyword will result in an error or misinterpretation.\n",
            "  FutureWarning\n"
          ]
        },
        {
          "output_type": "display_data",
          "data": {
            "image/png": "[encoded data removed]",
            "text/plain": [
              "<Figure size 864x288 with 2 Axes>"
            ]
          },
          "metadata": {
            "needs_background": "light"
          }
        }
      ]
    },
    {
      "cell_type": "markdown",
      "metadata": {
        "id": "TGnm-pLFlSin"
      },
      "source": [
        "##Step 4. Test the hypothesis\n",
        "● The average revenue from users of Ultimate and Surf calling plans differs.\n"
      ]
    },
    {
      "cell_type": "code",
      "metadata": {
        "colab": {
          "base_uri": "https://localhost:8080/"
        },
        "id": "M1CqLEjCmMAC",
        "outputId": "53bca5ef-2dbc-4ea0-a4f5-70558cffd6e2"
      },
      "source": [
        "\n",
        "#Null Hypothesis >> The average revenue from users of Ultimate and Surf calling plans is the similar\n",
        "#Alternate Hypothesis >> The average revenue from users of Ultimate and Surf calling plans differs\n",
        "\n",
        "revenue_ultimate=ultimatemonthly_revenue_peruser['TotalmonthlyCharges']\n",
        "revenue_surf=surfmonthly_revenue_peruser['TotalmonthlyCharges']\n",
        "\n",
        "from scipy import stats as st\n",
        "import numpy as np\n",
        "\n",
        "\n",
        "alpha = 0.05  # critical statistical significance level\n",
        "# if the p-value is less than alpha, we reject the hypothesis\n",
        "\n",
        "results = st.ttest_ind(revenue_ultimate, revenue_surf)\n",
        "\n",
        "print('p-value: ', results.pvalue)\n",
        "\n",
        "if results.pvalue < alpha:\n",
        "    print(\"We reject the null hypothesis\")\n",
        "else:\n",
        "    print(\"We can't reject the null hypothesis\")"
      ],
      "execution_count": null,
      "outputs": [
        {
          "output_type": "stream",
          "name": "stdout",
          "text": [
            "p-value:  1.724423314124219e-08\n",
            "We reject the null hypothesis\n"
          ]
        }
      ]
    },
    {
      "cell_type": "markdown",
      "metadata": {
        "id": "RSukazMtpL2-"
      },
      "source": [
        "\n",
        "\n",
        "\n",
        "#### ● The average revenue from users in NY-NJ area is different from that of the users from other regions."
      ]
    },
    {
      "cell_type": "code",
      "metadata": {
        "id": "Uceq86Kzq1R6"
      },
      "source": [
        "#combine the surf plan and ultimate plan records to get combined records\n",
        "surfmonthly_revenue_peruser.columns = ultimatemonthly_revenue_peruser.columns\n",
        "frame_combined = pd.concat([surfmonthly_revenue_peruser, ultimatemonthly_revenue_peruser], ignore_index=True)\n",
        "frame_combined"
      ],
      "execution_count": null,
      "outputs": []
    },
    {
      "cell_type": "code",
      "metadata": {
        "id": "RKPJrDov4ff7"
      },
      "source": [
        "# Filter out records containing 'NY-NJ' in the city column\n",
        "from pandas import DataFrame\n",
        "options_NYNJ = frame_combined[frame_combined[\"city\"].str.contains(\"NY-NJ\")]\n",
        "options_NYNJ.head()"
      ],
      "execution_count": null,
      "outputs": []
    },
    {
      "cell_type": "code",
      "metadata": {
        "id": "GPOcqxWzz2on"
      },
      "source": [
        "#drop records containing 'NY-NJ' from the main data frame to remain with other areas  records \n",
        "otherareas_df= frame_combined[frame_combined[\"city\"].str.contains(\"NY-NJ\")==False]\n",
        "otherareas_df"
      ],
      "execution_count": null,
      "outputs": []
    },
    {
      "cell_type": "code",
      "metadata": {
        "colab": {
          "base_uri": "https://localhost:8080/"
        },
        "id": "ZGHAQkBc0tzm",
        "outputId": "2c6d0ad2-d1f6-4e68-d049-bf2c194cdabc"
      },
      "source": [
        "#Test Hypothesis\n",
        "\n",
        "#Null Hypothesis >> The average revenue from users in NY-NJ area is similar with that of the users from other regions\n",
        "#Alternate Hypothesis >> The average revenue from users in NY-NJ area is different from that of the users from other regions\n",
        "\n",
        "revenue_NY = options_NYNJ['TotalmonthlyCharges']\n",
        "revenue_other_areas=otherareas_df['TotalmonthlyCharges']\n",
        "\n",
        "from scipy import stats as st\n",
        "import numpy as np\n",
        "\n",
        "\n",
        "alpha = 0.05  # critical statistical significance level\n",
        "# if the p-value is less than alpha, we reject the hypothesis\n",
        "\n",
        "results = st.ttest_ind(revenue_NY, revenue_other_areas)\n",
        "\n",
        "print('p-value: ', results.pvalue)\n",
        "\n",
        "if results.pvalue < alpha:\n",
        "    print(\"We reject the null hypothesis\")\n",
        "else:\n",
        "    print(\"We can't reject the null hypothesis\")"
      ],
      "execution_count": null,
      "outputs": [
        {
          "output_type": "stream",
          "name": "stdout",
          "text": [
            "p-value:  0.04974528277407551\n",
            "We reject the null hypothesis\n"
          ]
        }
      ]
    },
    {
      "cell_type": "markdown",
      "metadata": {
        "id": "SwWwdEGnq2KR"
      },
      "source": [
        "##5. Conclusion\n",
        "\n",
        "a.  Surf plan brings in more revenue\n",
        "\n",
        "b. The average revenue from users of Ultimate and Surf calling plans differs\n",
        "\n",
        "c.The average revenue from users in NY-NJ area is different from that of the users from other regions\n"
      ]
    }
  ]
}